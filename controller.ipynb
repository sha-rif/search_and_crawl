{
 "cells": [
  {
   "cell_type": "code",
   "execution_count": 142,
   "metadata": {},
   "outputs": [],
   "source": [
    "import csv\n",
    "import requests\n",
    "from requests import HTTPError\n",
    "import pandas as pd\n",
    "import re\n",
    "from bs4 import BeautifulSoup"
   ]
  },
  {
   "cell_type": "code",
   "execution_count": 143,
   "metadata": {},
   "outputs": [],
   "source": [
    "URL = \"https://coinmarketcap.com/pt-br/trending-cryptocurrencies/\"\n",
    "\n",
    "def web_crawl(URL):\n",
    "    try:\n",
    "        response = requests.get(URL)\n",
    "        response.raise_for_status()\n",
    "    except HTTPError as exc:\n",
    "        print(exc)\n",
    "    else:\n",
    "        content = response.text\n",
    "        return content"
   ]
  },
  {
   "cell_type": "code",
   "execution_count": 144,
   "metadata": {},
   "outputs": [],
   "source": [
    "page_file = web_crawl(URL)\n",
    "with open('./data/page.html',mode='w',encoding='utf8') as f:\n",
    "    f.write(page_file)\n"
   ]
  },
  {
   "cell_type": "code",
   "execution_count": 145,
   "metadata": {},
   "outputs": [],
   "source": [
    "page = BeautifulSoup(open('./data/page.html',mode='r',encoding='utf8'),'html.parser')\n",
    "extract_content = []\n",
    "table = page.find('table', {'class':'sc-66133f36-3 hLiUvb cmc-table'}) #Table extraction"
   ]
  },
  {
   "cell_type": "code",
   "execution_count": 192,
   "metadata": {},
   "outputs": [],
   "source": [
    "header = table.find_all('p', {'class':'sc-4984dd93-0 fiHcNM'})\n",
    "col_name = []\n",
    "for topic in header:\n",
    "    name = topic.get_text()\n",
    "    col_name.append(name)\n"
   ]
  },
  {
   "cell_type": "code",
   "execution_count": 193,
   "metadata": {},
   "outputs": [],
   "source": [
    "body = table.find('tbody')\n",
    "body_rows = body.findAll('tr')"
   ]
  },
  {
   "cell_type": "code",
   "execution_count": 194,
   "metadata": {},
   "outputs": [
    {
     "name": "stdout",
     "output_type": "stream",
     "text": [
      "<td style=\"text-align:end\">R$4,006,209,189</td>\n",
      "<td style=\"text-align:end\">R$18,435,891,518</td>\n",
      "None\n",
      "None\n",
      "None\n",
      "None\n",
      "None\n",
      "None\n",
      "None\n",
      "None\n",
      "None\n",
      "None\n",
      "None\n",
      "None\n",
      "None\n",
      "None\n",
      "None\n",
      "None\n",
      "None\n",
      "None\n",
      "None\n",
      "None\n",
      "None\n",
      "None\n",
      "None\n",
      "None\n",
      "None\n",
      "None\n",
      "None\n",
      "None\n"
     ]
    }
   ],
   "source": [
    "market = []\n",
    "for index, row in enumerate(body_rows):\n",
    "    cripto_rank = row.find('p', {'class': 'sc-4984dd93-0 iWSjWE'})\n",
    "    cripto_name = row.find('p',{'class':'sc-4984dd93-0 kKpPOn'})\n",
    "    cripto_price = re.search(r'<span>\\S+</span>', str(row))\n",
    "    cripto_variability_day = row.find('span', {'class':'sc-d55c02b-0 gUnzUB'})\n",
    "    cripto_week_month = row.findAll('span', {'class':'sc-d55c02b-0 iwhBxy'})\n",
    "    cripto_market_vol = re.findall(r'<td style=\"text-align:end\">R\\S+</td>', str(row))\n",
    "    cripto_market = cripto_market_vol[index] if cripto_market_vol and index < len(cripto_market_vol) else None\n",
    "\n",
    "    print(cripto_market)\n"
   ]
  },
  {
   "cell_type": "code",
   "execution_count": null,
   "metadata": {},
   "outputs": [],
   "source": []
  }
 ],
 "metadata": {
  "kernelspec": {
   "display_name": "Python 3",
   "language": "python",
   "name": "python3"
  },
  "language_info": {
   "codemirror_mode": {
    "name": "ipython",
    "version": 3
   },
   "file_extension": ".py",
   "mimetype": "text/x-python",
   "name": "python",
   "nbconvert_exporter": "python",
   "pygments_lexer": "ipython3",
   "version": "3.11.6"
  }
 },
 "nbformat": 4,
 "nbformat_minor": 2
}
